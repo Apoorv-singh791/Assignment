{
 "cells": [
  {
   "cell_type": "markdown",
   "id": "610502da-8367-459a-a30c-80302a443ee1",
   "metadata": {},
   "source": [
    "Q1.  Explain with an example each when to use a for loop and a while loop.                                                                             \n",
    "A1.  For loop is used when we know the nmber of times a particular statement has to be executed or we can say when we know the number of iteration .        FOR EXAMPLE :\n"
   ]
  },
  {
   "cell_type": "code",
   "execution_count": 30,
   "id": "0394ab22-0b0f-4dfc-9cd2-082c98ca942c",
   "metadata": {},
   "outputs": [
    {
     "name": "stdout",
     "output_type": "stream",
     "text": [
      "1\n",
      "2\n",
      "3\n",
      "4\n",
      "5\n"
     ]
    }
   ],
   "source": [
    "l=[1,2,3,4,5]\n",
    "for i in l:\n",
    "    print (i)"
   ]
  },
  {
   "cell_type": "markdown",
   "id": "21544eba-ff91-4383-b52d-a274d71e1e1e",
   "metadata": {},
   "source": [
    "while loop is used when we have certain condition or when we don't know number of execution of statement or when we don't know the numbers of iteration . for example:"
   ]
  },
  {
   "cell_type": "code",
   "execution_count": 36,
   "id": "727372e6-7639-4aee-8a60-744c9ec2f911",
   "metadata": {},
   "outputs": [
    {
     "name": "stdout",
     "output_type": "stream",
     "text": [
      "0\n",
      "1\n",
      "2\n",
      "3\n",
      "4\n",
      "5\n",
      "6\n",
      "7\n",
      "8\n",
      "9\n"
     ]
    }
   ],
   "source": [
    "i=0\n",
    "while (i!=10):\n",
    "    print(i)\n",
    "    i+=1"
   ]
  },
  {
   "cell_type": "markdown",
   "id": "5f73e5d4-5486-43db-887d-0d1404168493",
   "metadata": {},
   "source": [
    "Q2.  Write a python program to print the sum and product of the first 10 natural numbers using for \n",
    "and while loop."
   ]
  },
  {
   "cell_type": "code",
   "execution_count": 46,
   "id": "83a1ad06-afd6-4fb5-bfb7-ecd716cbd864",
   "metadata": {},
   "outputs": [
    {
     "name": "stdout",
     "output_type": "stream",
     "text": [
      "55\n"
     ]
    }
   ],
   "source": [
    "# SUM USING FOR LOOP \n",
    "a=0\n",
    "for i in range(1,(10+1)):\n",
    "    a=a+i\n",
    "print(a)"
   ]
  },
  {
   "cell_type": "code",
   "execution_count": 47,
   "id": "0c6635a4-ac71-43b1-88cc-a73a65d2804f",
   "metadata": {},
   "outputs": [
    {
     "name": "stdout",
     "output_type": "stream",
     "text": [
      "3628800\n"
     ]
    }
   ],
   "source": [
    "# PRODUCT USING FOR LOOP \n",
    "a=1\n",
    "for i in range(1,11):\n",
    "    a=a*i\n",
    "print(a)"
   ]
  },
  {
   "cell_type": "code",
   "execution_count": 48,
   "id": "ba91c58e-9aa3-48f9-8a7f-08dfd25d4fbd",
   "metadata": {},
   "outputs": [
    {
     "name": "stdout",
     "output_type": "stream",
     "text": [
      "55\n"
     ]
    }
   ],
   "source": [
    "# SUM USING WHILE LOOP \n",
    "a=0\n",
    "i=1\n",
    "while(i<=10):\n",
    "    a=a+i\n",
    "    i=i+1\n",
    "print(a)"
   ]
  },
  {
   "cell_type": "code",
   "execution_count": 49,
   "id": "874fe0b2-947c-414e-9d14-d1576187b621",
   "metadata": {},
   "outputs": [
    {
     "name": "stdout",
     "output_type": "stream",
     "text": [
      "3628800\n"
     ]
    }
   ],
   "source": [
    "# PRODUCT USING WHILE LOOP \n",
    "a=1\n",
    "i=1\n",
    "while(i<=10):\n",
    "    a=a*i\n",
    "    i=i+1\n",
    "print(a)"
   ]
  },
  {
   "cell_type": "markdown",
   "id": "5ca54e29-f1f6-48fb-85c4-64b620b4fb18",
   "metadata": {},
   "source": [
    "Q3. Create a python program to compute the electricity bill for a household.\n",
    "The per-unit charges in rupees are as follows: For the first 100 units, the user will be charged Rs. 4.5 per \n",
    "unit, for the next 100 units, the user will be charged Rs. 6 per unit, and for the next 100 units, the user will \n",
    "be charged Rs. 10 per unit, After 300 units and above the user will be charged Rs. 20 per unit.\n",
    "                                                                                                                                                       \n",
    "                                                                                                                                                       \n",
    "You are required to take the units of electricity consumed in a month from the user as input.\n",
    "\n",
    "\n",
    "Your program must pass this test case: when the unit of electricity consumed by the user in a month is \n",
    "310, the total electricity bill should be 2250."
   ]
  },
  {
   "cell_type": "code",
   "execution_count": 60,
   "id": "7e7a39ff-db62-4a5d-80ad-eed11a588883",
   "metadata": {},
   "outputs": [
    {
     "name": "stdin",
     "output_type": "stream",
     "text": [
      "ENTER THE UNITS OF ELECTRICITY :  310\n"
     ]
    },
    {
     "name": "stdout",
     "output_type": "stream",
     "text": [
      "TOTAL BILL IS 2250.0\n"
     ]
    }
   ],
   "source": [
    "units=float(input(\"ENTER THE UNITS OF ELECTRICITY : \"))\n",
    "if(units>0 and units<=100):\n",
    "    bill=units*4.5\n",
    "elif(units>100 and units<=200):\n",
    "    bill=450+((units-100)*6)\n",
    "elif(units>200 and units<=300):\n",
    "    bill=1050+((units-200)*10)\n",
    "elif(units>300):\n",
    "    bill=2050+((units-300)*20)\n",
    "print(f\"TOTAL BILL IS {bill}\")"
   ]
  },
  {
   "cell_type": "markdown",
   "id": "87d6279f-8e3b-4108-b9f5-6915347c30cc",
   "metadata": {},
   "source": [
    "Q4. Create a list of numbers from 1 to 100. Use for loop and while loop to calculate the cube of each \n",
    "number and if the cube of that number is divisible by 4 or 5 then append that number in a list and print \n",
    "that list."
   ]
  },
  {
   "cell_type": "code",
   "execution_count": 73,
   "id": "1728d493-2bcf-4937-b419-0f1bfbb9eda0",
   "metadata": {},
   "outputs": [
    {
     "name": "stdout",
     "output_type": "stream",
     "text": [
      "[2, 4, 5, 6, 8, 10, 12, 14, 15, 16, 18, 20, 22, 24, 25, 26, 28, 30, 32, 34, 35, 36, 38, 40, 42, 44, 45, 46, 48, 50, 52, 54, 55, 56, 58, 60, 62, 64, 65, 66, 68, 70, 72, 74, 75, 76, 78, 80, 82, 84, 85, 86, 88, 90, 92, 94, 95, 96, 98, 100]\n"
     ]
    }
   ],
   "source": [
    "# USING FOR LOOP \n",
    "l=[]\n",
    "l1=[]\n",
    "for i in range (1,101):\n",
    "    l.append(i)\n",
    "for j in l:\n",
    "    a=j*j*j\n",
    "    if(a%4==0 or a%5==0):\n",
    "        l1.append(j)\n",
    "print(l1)"
   ]
  },
  {
   "cell_type": "code",
   "execution_count": 6,
   "id": "b562ee08-d5f8-4c7e-8758-5c03ae84951a",
   "metadata": {},
   "outputs": [
    {
     "name": "stdout",
     "output_type": "stream",
     "text": [
      "[2, 4, 5, 6, 8, 10, 12, 14, 15, 16, 18, 20, 22, 24, 25, 26, 28, 30, 32, 34, 35, 36, 38, 40, 42, 44, 45, 46, 48, 50, 52, 54, 55, 56, 58, 60, 62, 64, 65, 66, 68, 70, 72, 74, 75, 76, 78, 80, 82, 84, 85, 86, 88, 90, 92, 94, 95, 96, 98, 100]\n"
     ]
    }
   ],
   "source": [
    "# USING WHILE LOOP \n",
    "l=[]\n",
    "l1=[]\n",
    "i=1\n",
    "j=0\n",
    "while(i<=100):\n",
    "    l.append(i)\n",
    "    i+=1\n",
    "while(j<=99):\n",
    "    a=l[j]\n",
    "    b=a**3\n",
    "    if(b%4==0 or b%5==0):\n",
    "        l1.append(a)\n",
    "    j=j+1\n",
    "print(l1)"
   ]
  },
  {
   "cell_type": "markdown",
   "id": "5e65cb4f-41fd-48f2-90fa-8ccb9215ee79",
   "metadata": {},
   "source": [
    "Q5.  Write a program to filter count vowels in the below-given string.                                                                                                                                                                                                                                       \n",
    "\n",
    "string = \"I want to become a data scientist\""
   ]
  },
  {
   "cell_type": "code",
   "execution_count": 20,
   "id": "4ee809eb-7ed3-4a38-bf8a-f5af7f2651c2",
   "metadata": {},
   "outputs": [
    {
     "name": "stdout",
     "output_type": "stream",
     "text": [
      "a=4 , e=3 , i=3 , o=2 , u=0\n"
     ]
    }
   ],
   "source": [
    "string = \"I want to become a data scientist\"\n",
    "A=0\n",
    "E=0\n",
    "I=0\n",
    "O=0\n",
    "U=0\n",
    "for i in string[0::1]:\n",
    "    if(i=='a'or i=='A'):\n",
    "        A=A+1\n",
    "    elif(i=='e' or i=='E'):\n",
    "        E=E+1\n",
    "    elif(i=='i' or i=='I'):\n",
    "        I=I+1\n",
    "    elif(i=='o' or i=='O'):\n",
    "        O=O+1\n",
    "    elif(i=='u' or i=='U'):\n",
    "        U=U+1\n",
    "print(f\"a={A} , e={E} , i={I} , o={O} , u={U}\")"
   ]
  }
 ],
 "metadata": {
  "kernelspec": {
   "display_name": "Python 3 (ipykernel)",
   "language": "python",
   "name": "python3"
  },
  "language_info": {
   "codemirror_mode": {
    "name": "ipython",
    "version": 3
   },
   "file_extension": ".py",
   "mimetype": "text/x-python",
   "name": "python",
   "nbconvert_exporter": "python",
   "pygments_lexer": "ipython3",
   "version": "3.10.8"
  }
 },
 "nbformat": 4,
 "nbformat_minor": 5
}
